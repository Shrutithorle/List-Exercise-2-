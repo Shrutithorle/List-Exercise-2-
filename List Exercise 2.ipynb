{
 "cells": [
  {
   "cell_type": "code",
   "execution_count": 6,
   "id": "dcdb9d23",
   "metadata": {},
   "outputs": [
    {
     "name": "stdout",
     "output_type": "stream",
     "text": [
      "Enter a list of numbers separated by spaces: 41 55 20 10 11 40 55\n",
      "List with outliers removed: [41, 20, 40]\n",
      "Original list: [41, 55, 20, 10, 11, 40, 55]\n"
     ]
    }
   ],
   "source": [
    "#function to remove outliers \n",
    "def remove_outliers(data, n):\n",
    "    if len(data) < 4:\n",
    "        raise Error(\"List must contain at least 4 elements\")\n",
    "\n",
    "    data_copy = data[:]\n",
    "\n",
    "    largest = sorted(data_copy, reverse=True)[:n]\n",
    "    smallest = sorted(data_copy)[:n]\n",
    "\n",
    "    for value in largest + smallest:\n",
    "        data_copy.remove(value)\n",
    "\n",
    "    return data_copy\n",
    "\n",
    "def main():\n",
    "  \n",
    "    data = input(\"Enter a list of numbers separated by spaces: \").split()\n",
    "\n",
    "    try:\n",
    "        data = [int(value) for value in data]\n",
    "    except ValueError:\n",
    "        print(\"Invalid input. Please enter a list of numbers.\")\n",
    "        return\n",
    "\n",
    "    try:\n",
    "        outlier_removed_data = remove_outliers(data, 2)\n",
    "    except ValueError:\n",
    "        print(\"List must contain at least 4 elements\")\n",
    "        return\n",
    "\n",
    "    print(\"List with outliers removed:\", outlier_removed_data)\n",
    "    print(\"Original list:\", data)\n",
    "\n",
    "if __name__ == \"__main__\":\n",
    "    main()\n"
   ]
  },
  {
   "cell_type": "code",
   "execution_count": 9,
   "id": "a3c85483",
   "metadata": {},
   "outputs": [
    {
     "name": "stdout",
     "output_type": "stream",
     "text": [
      "Enter a string: Examples of contractions include: don’t, isn’t, and  wouldn’t\n",
      "Words with punctuation removed:\n",
      "['Examples', 'of', 'contractions', 'include', 'don’t', 'isn’t', 'and', 'wouldn’t']\n"
     ]
    }
   ],
   "source": [
    "#punctuation -\n",
    "import string\n",
    "\n",
    "def identify_words(input_string):\n",
    "    words = input_string.split()\n",
    "    cleaned_words = [word.strip(string.punctuation) for word in words]\n",
    "    return cleaned_words\n",
    "\n",
    "def main():\n",
    "    user_input = input(\"Enter a string: \")\n",
    "    result = identify_words(user_input)\n",
    "    print(\"Words with punctuation removed:\")\n",
    "    print(result)\n",
    "main()\n"
   ]
  },
  {
   "cell_type": "code",
   "execution_count": null,
   "id": "368437db",
   "metadata": {},
   "outputs": [],
   "source": []
  }
 ],
 "metadata": {
  "kernelspec": {
   "display_name": "Python 3 (ipykernel)",
   "language": "python",
   "name": "python3"
  },
  "language_info": {
   "codemirror_mode": {
    "name": "ipython",
    "version": 3
   },
   "file_extension": ".py",
   "mimetype": "text/x-python",
   "name": "python",
   "nbconvert_exporter": "python",
   "pygments_lexer": "ipython3",
   "version": "3.11.5"
  }
 },
 "nbformat": 4,
 "nbformat_minor": 5
}
